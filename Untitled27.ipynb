{
 "cells": [
  {
   "cell_type": "code",
   "execution_count": 40,
   "metadata": {},
   "outputs": [
    {
     "name": "stderr",
     "output_type": "stream",
     "text": [
      "C:\\Users\\Stephen\\Anaconda3\\lib\\site-packages\\IPython\\core\\interactiveshell.py:2785: DtypeWarning: Columns (0,1,3,4,5,6,7,8,9,10,11,12) have mixed types. Specify dtype option on import or set low_memory=False.\n",
      "  interactivity=interactivity, compiler=compiler, result=result)\n"
     ]
    }
   ],
   "source": [
    "import pandas as pd\n",
    "import numpy as np\n",
    "import matplotlib as plt\n",
    "%matplotlib inline\n",
    "\n",
    "df = pd.read_csv(r\"C:\\Users\\Stephen\\Desktop\\CS4055 Assignment\\googleplaystore.csv\")"
   ]
  },
  {
   "cell_type": "code",
   "execution_count": 41,
   "metadata": {},
   "outputs": [
    {
     "data": {
      "text/html": [
       "<div>\n",
       "<style scoped>\n",
       "    .dataframe tbody tr th:only-of-type {\n",
       "        vertical-align: middle;\n",
       "    }\n",
       "\n",
       "    .dataframe tbody tr th {\n",
       "        vertical-align: top;\n",
       "    }\n",
       "\n",
       "    .dataframe thead th {\n",
       "        text-align: right;\n",
       "    }\n",
       "</style>\n",
       "<table border=\"1\" class=\"dataframe\">\n",
       "  <thead>\n",
       "    <tr style=\"text-align: right;\">\n",
       "      <th></th>\n",
       "      <th>App</th>\n",
       "      <th>Category</th>\n",
       "      <th>Rating</th>\n",
       "      <th>Reviews</th>\n",
       "      <th>Size</th>\n",
       "      <th>Installs</th>\n",
       "      <th>Type</th>\n",
       "      <th>Price</th>\n",
       "      <th>Content Rating</th>\n",
       "      <th>Genres</th>\n",
       "      <th>Last Updated</th>\n",
       "      <th>Current Ver</th>\n",
       "      <th>Android Ver</th>\n",
       "      <th>Unnamed: 13</th>\n",
       "      <th>App.1</th>\n",
       "      <th>Translated_Review</th>\n",
       "      <th>Sentiment</th>\n",
       "      <th>Sentiment_Polarity</th>\n",
       "      <th>Sentiment_Subjectivity</th>\n",
       "    </tr>\n",
       "  </thead>\n",
       "  <tbody>\n",
       "    <tr>\n",
       "      <th>0</th>\n",
       "      <td>Photo Editor &amp; Candy Camera &amp; Grid &amp; ScrapBook</td>\n",
       "      <td>ART_AND_DESIGN</td>\n",
       "      <td>4.1</td>\n",
       "      <td>159</td>\n",
       "      <td>19M</td>\n",
       "      <td>10,000+</td>\n",
       "      <td>Free</td>\n",
       "      <td>0</td>\n",
       "      <td>Everyone</td>\n",
       "      <td>Art &amp; Design</td>\n",
       "      <td>January 7, 2018</td>\n",
       "      <td>1.0.0</td>\n",
       "      <td>4.0.3 and up</td>\n",
       "      <td>NaN</td>\n",
       "      <td>10 Best Foods for You</td>\n",
       "      <td>I like eat delicious food. That's I'm cooking ...</td>\n",
       "      <td>Positive</td>\n",
       "      <td>1.000000</td>\n",
       "      <td>0.533333</td>\n",
       "    </tr>\n",
       "    <tr>\n",
       "      <th>1</th>\n",
       "      <td>Coloring book moana</td>\n",
       "      <td>ART_AND_DESIGN</td>\n",
       "      <td>3.9</td>\n",
       "      <td>967</td>\n",
       "      <td>14M</td>\n",
       "      <td>500,000+</td>\n",
       "      <td>Free</td>\n",
       "      <td>0</td>\n",
       "      <td>Everyone</td>\n",
       "      <td>Art &amp; Design;Pretend Play</td>\n",
       "      <td>January 15, 2018</td>\n",
       "      <td>2.0.0</td>\n",
       "      <td>4.0.3 and up</td>\n",
       "      <td>NaN</td>\n",
       "      <td>10 Best Foods for You</td>\n",
       "      <td>This help eating healthy exercise regular basis</td>\n",
       "      <td>Positive</td>\n",
       "      <td>0.250000</td>\n",
       "      <td>0.288462</td>\n",
       "    </tr>\n",
       "    <tr>\n",
       "      <th>2</th>\n",
       "      <td>U Launcher Lite – FREE Live Cool Themes, Hide ...</td>\n",
       "      <td>ART_AND_DESIGN</td>\n",
       "      <td>4.7</td>\n",
       "      <td>87510</td>\n",
       "      <td>8.7M</td>\n",
       "      <td>5,000,000+</td>\n",
       "      <td>Free</td>\n",
       "      <td>0</td>\n",
       "      <td>Everyone</td>\n",
       "      <td>Art &amp; Design</td>\n",
       "      <td>August 1, 2018</td>\n",
       "      <td>1.2.4</td>\n",
       "      <td>4.0.3 and up</td>\n",
       "      <td>NaN</td>\n",
       "      <td>10 Best Foods for You</td>\n",
       "      <td>NaN</td>\n",
       "      <td>NaN</td>\n",
       "      <td>NaN</td>\n",
       "      <td>NaN</td>\n",
       "    </tr>\n",
       "    <tr>\n",
       "      <th>3</th>\n",
       "      <td>Sketch - Draw &amp; Paint</td>\n",
       "      <td>ART_AND_DESIGN</td>\n",
       "      <td>4.5</td>\n",
       "      <td>215644</td>\n",
       "      <td>25M</td>\n",
       "      <td>50,000,000+</td>\n",
       "      <td>Free</td>\n",
       "      <td>0</td>\n",
       "      <td>Teen</td>\n",
       "      <td>Art &amp; Design</td>\n",
       "      <td>June 8, 2018</td>\n",
       "      <td>Varies with device</td>\n",
       "      <td>4.2 and up</td>\n",
       "      <td>NaN</td>\n",
       "      <td>10 Best Foods for You</td>\n",
       "      <td>Works great especially going grocery store</td>\n",
       "      <td>Positive</td>\n",
       "      <td>0.400000</td>\n",
       "      <td>0.875000</td>\n",
       "    </tr>\n",
       "    <tr>\n",
       "      <th>4</th>\n",
       "      <td>Pixel Draw - Number Art Coloring Book</td>\n",
       "      <td>ART_AND_DESIGN</td>\n",
       "      <td>4.3</td>\n",
       "      <td>967</td>\n",
       "      <td>2.8M</td>\n",
       "      <td>100,000+</td>\n",
       "      <td>Free</td>\n",
       "      <td>0</td>\n",
       "      <td>Everyone</td>\n",
       "      <td>Art &amp; Design;Creativity</td>\n",
       "      <td>June 20, 2018</td>\n",
       "      <td>1.1</td>\n",
       "      <td>4.4 and up</td>\n",
       "      <td>NaN</td>\n",
       "      <td>10 Best Foods for You</td>\n",
       "      <td>Best idea us</td>\n",
       "      <td>Positive</td>\n",
       "      <td>1.000000</td>\n",
       "      <td>0.300000</td>\n",
       "    </tr>\n",
       "    <tr>\n",
       "      <th>5</th>\n",
       "      <td>Paper flowers instructions</td>\n",
       "      <td>ART_AND_DESIGN</td>\n",
       "      <td>4.4</td>\n",
       "      <td>167</td>\n",
       "      <td>5.6M</td>\n",
       "      <td>50,000+</td>\n",
       "      <td>Free</td>\n",
       "      <td>0</td>\n",
       "      <td>Everyone</td>\n",
       "      <td>Art &amp; Design</td>\n",
       "      <td>March 26, 2017</td>\n",
       "      <td>1</td>\n",
       "      <td>2.3 and up</td>\n",
       "      <td>NaN</td>\n",
       "      <td>10 Best Foods for You</td>\n",
       "      <td>Best way</td>\n",
       "      <td>Positive</td>\n",
       "      <td>1.000000</td>\n",
       "      <td>0.300000</td>\n",
       "    </tr>\n",
       "    <tr>\n",
       "      <th>6</th>\n",
       "      <td>Smoke Effect Photo Maker - Smoke Editor</td>\n",
       "      <td>ART_AND_DESIGN</td>\n",
       "      <td>3.8</td>\n",
       "      <td>178</td>\n",
       "      <td>19M</td>\n",
       "      <td>50,000+</td>\n",
       "      <td>Free</td>\n",
       "      <td>0</td>\n",
       "      <td>Everyone</td>\n",
       "      <td>Art &amp; Design</td>\n",
       "      <td>April 26, 2018</td>\n",
       "      <td>1.1</td>\n",
       "      <td>4.0.3 and up</td>\n",
       "      <td>NaN</td>\n",
       "      <td>10 Best Foods for You</td>\n",
       "      <td>Amazing</td>\n",
       "      <td>Positive</td>\n",
       "      <td>0.600000</td>\n",
       "      <td>0.900000</td>\n",
       "    </tr>\n",
       "    <tr>\n",
       "      <th>7</th>\n",
       "      <td>Infinite Painter</td>\n",
       "      <td>ART_AND_DESIGN</td>\n",
       "      <td>4.1</td>\n",
       "      <td>36815</td>\n",
       "      <td>29M</td>\n",
       "      <td>1,000,000+</td>\n",
       "      <td>Free</td>\n",
       "      <td>0</td>\n",
       "      <td>Everyone</td>\n",
       "      <td>Art &amp; Design</td>\n",
       "      <td>June 14, 2018</td>\n",
       "      <td>6.1.61.1</td>\n",
       "      <td>4.2 and up</td>\n",
       "      <td>NaN</td>\n",
       "      <td>10 Best Foods for You</td>\n",
       "      <td>NaN</td>\n",
       "      <td>NaN</td>\n",
       "      <td>NaN</td>\n",
       "      <td>NaN</td>\n",
       "    </tr>\n",
       "    <tr>\n",
       "      <th>8</th>\n",
       "      <td>Garden Coloring Book</td>\n",
       "      <td>ART_AND_DESIGN</td>\n",
       "      <td>4.4</td>\n",
       "      <td>13791</td>\n",
       "      <td>33M</td>\n",
       "      <td>1,000,000+</td>\n",
       "      <td>Free</td>\n",
       "      <td>0</td>\n",
       "      <td>Everyone</td>\n",
       "      <td>Art &amp; Design</td>\n",
       "      <td>September 20, 2017</td>\n",
       "      <td>2.9.2</td>\n",
       "      <td>3.0 and up</td>\n",
       "      <td>NaN</td>\n",
       "      <td>10 Best Foods for You</td>\n",
       "      <td>Looking forward app,</td>\n",
       "      <td>Neutral</td>\n",
       "      <td>0.000000</td>\n",
       "      <td>0.000000</td>\n",
       "    </tr>\n",
       "    <tr>\n",
       "      <th>9</th>\n",
       "      <td>Kids Paint Free - Drawing Fun</td>\n",
       "      <td>ART_AND_DESIGN</td>\n",
       "      <td>4.7</td>\n",
       "      <td>121</td>\n",
       "      <td>3.1M</td>\n",
       "      <td>10,000+</td>\n",
       "      <td>Free</td>\n",
       "      <td>0</td>\n",
       "      <td>Everyone</td>\n",
       "      <td>Art &amp; Design;Creativity</td>\n",
       "      <td>July 3, 2018</td>\n",
       "      <td>2.8</td>\n",
       "      <td>4.0.3 and up</td>\n",
       "      <td>NaN</td>\n",
       "      <td>10 Best Foods for You</td>\n",
       "      <td>It helpful site ! It help foods get !</td>\n",
       "      <td>Neutral</td>\n",
       "      <td>0.000000</td>\n",
       "      <td>0.000000</td>\n",
       "    </tr>\n",
       "    <tr>\n",
       "      <th>10</th>\n",
       "      <td>Text on Photo - Fonteee</td>\n",
       "      <td>ART_AND_DESIGN</td>\n",
       "      <td>4.4</td>\n",
       "      <td>13880</td>\n",
       "      <td>28M</td>\n",
       "      <td>1,000,000+</td>\n",
       "      <td>Free</td>\n",
       "      <td>0</td>\n",
       "      <td>Everyone</td>\n",
       "      <td>Art &amp; Design</td>\n",
       "      <td>October 27, 2017</td>\n",
       "      <td>1.0.4</td>\n",
       "      <td>4.1 and up</td>\n",
       "      <td>NaN</td>\n",
       "      <td>10 Best Foods for You</td>\n",
       "      <td>good you.</td>\n",
       "      <td>Positive</td>\n",
       "      <td>0.700000</td>\n",
       "      <td>0.600000</td>\n",
       "    </tr>\n",
       "    <tr>\n",
       "      <th>11</th>\n",
       "      <td>Name Art Photo Editor - Focus n Filters</td>\n",
       "      <td>ART_AND_DESIGN</td>\n",
       "      <td>4.4</td>\n",
       "      <td>8788</td>\n",
       "      <td>12M</td>\n",
       "      <td>1,000,000+</td>\n",
       "      <td>Free</td>\n",
       "      <td>0</td>\n",
       "      <td>Everyone</td>\n",
       "      <td>Art &amp; Design</td>\n",
       "      <td>July 31, 2018</td>\n",
       "      <td>1.0.15</td>\n",
       "      <td>4.0 and up</td>\n",
       "      <td>NaN</td>\n",
       "      <td>10 Best Foods for You</td>\n",
       "      <td>Useful information The amount spelling errors ...</td>\n",
       "      <td>Positive</td>\n",
       "      <td>0.200000</td>\n",
       "      <td>0.100000</td>\n",
       "    </tr>\n",
       "    <tr>\n",
       "      <th>12</th>\n",
       "      <td>Tattoo Name On My Photo Editor</td>\n",
       "      <td>ART_AND_DESIGN</td>\n",
       "      <td>4.2</td>\n",
       "      <td>44829</td>\n",
       "      <td>20M</td>\n",
       "      <td>10,000,000+</td>\n",
       "      <td>Free</td>\n",
       "      <td>0</td>\n",
       "      <td>Teen</td>\n",
       "      <td>Art &amp; Design</td>\n",
       "      <td>April 2, 2018</td>\n",
       "      <td>3.8</td>\n",
       "      <td>4.1 and up</td>\n",
       "      <td>NaN</td>\n",
       "      <td>10 Best Foods for You</td>\n",
       "      <td>Thank you! Great app!! Add arthritis, eyes, im...</td>\n",
       "      <td>Positive</td>\n",
       "      <td>0.750000</td>\n",
       "      <td>0.875000</td>\n",
       "    </tr>\n",
       "    <tr>\n",
       "      <th>13</th>\n",
       "      <td>Mandala Coloring Book</td>\n",
       "      <td>ART_AND_DESIGN</td>\n",
       "      <td>4.6</td>\n",
       "      <td>4326</td>\n",
       "      <td>21M</td>\n",
       "      <td>100,000+</td>\n",
       "      <td>Free</td>\n",
       "      <td>0</td>\n",
       "      <td>Everyone</td>\n",
       "      <td>Art &amp; Design</td>\n",
       "      <td>June 26, 2018</td>\n",
       "      <td>1.0.4</td>\n",
       "      <td>4.4 and up</td>\n",
       "      <td>NaN</td>\n",
       "      <td>10 Best Foods for You</td>\n",
       "      <td>Greatest ever Completely awesome maintain heal...</td>\n",
       "      <td>Positive</td>\n",
       "      <td>0.992188</td>\n",
       "      <td>0.866667</td>\n",
       "    </tr>\n",
       "    <tr>\n",
       "      <th>14</th>\n",
       "      <td>3D Color Pixel by Number - Sandbox Art Coloring</td>\n",
       "      <td>ART_AND_DESIGN</td>\n",
       "      <td>4.4</td>\n",
       "      <td>1518</td>\n",
       "      <td>37M</td>\n",
       "      <td>100,000+</td>\n",
       "      <td>Free</td>\n",
       "      <td>0</td>\n",
       "      <td>Everyone</td>\n",
       "      <td>Art &amp; Design</td>\n",
       "      <td>August 3, 2018</td>\n",
       "      <td>1.2.3</td>\n",
       "      <td>2.3 and up</td>\n",
       "      <td>NaN</td>\n",
       "      <td>10 Best Foods for You</td>\n",
       "      <td>Good health...... Good health first priority.....</td>\n",
       "      <td>Positive</td>\n",
       "      <td>0.550000</td>\n",
       "      <td>0.511111</td>\n",
       "    </tr>\n",
       "  </tbody>\n",
       "</table>\n",
       "</div>"
      ],
      "text/plain": [
       "                                                  App        Category  Rating  \\\n",
       "0      Photo Editor & Candy Camera & Grid & ScrapBook  ART_AND_DESIGN     4.1   \n",
       "1                                 Coloring book moana  ART_AND_DESIGN     3.9   \n",
       "2   U Launcher Lite – FREE Live Cool Themes, Hide ...  ART_AND_DESIGN     4.7   \n",
       "3                               Sketch - Draw & Paint  ART_AND_DESIGN     4.5   \n",
       "4               Pixel Draw - Number Art Coloring Book  ART_AND_DESIGN     4.3   \n",
       "5                          Paper flowers instructions  ART_AND_DESIGN     4.4   \n",
       "6             Smoke Effect Photo Maker - Smoke Editor  ART_AND_DESIGN     3.8   \n",
       "7                                    Infinite Painter  ART_AND_DESIGN     4.1   \n",
       "8                                Garden Coloring Book  ART_AND_DESIGN     4.4   \n",
       "9                       Kids Paint Free - Drawing Fun  ART_AND_DESIGN     4.7   \n",
       "10                            Text on Photo - Fonteee  ART_AND_DESIGN     4.4   \n",
       "11            Name Art Photo Editor - Focus n Filters  ART_AND_DESIGN     4.4   \n",
       "12                     Tattoo Name On My Photo Editor  ART_AND_DESIGN     4.2   \n",
       "13                              Mandala Coloring Book  ART_AND_DESIGN     4.6   \n",
       "14    3D Color Pixel by Number - Sandbox Art Coloring  ART_AND_DESIGN     4.4   \n",
       "\n",
       "   Reviews  Size     Installs  Type Price Content Rating  \\\n",
       "0      159   19M      10,000+  Free     0       Everyone   \n",
       "1      967   14M     500,000+  Free     0       Everyone   \n",
       "2    87510  8.7M   5,000,000+  Free     0       Everyone   \n",
       "3   215644   25M  50,000,000+  Free     0           Teen   \n",
       "4      967  2.8M     100,000+  Free     0       Everyone   \n",
       "5      167  5.6M      50,000+  Free     0       Everyone   \n",
       "6      178   19M      50,000+  Free     0       Everyone   \n",
       "7    36815   29M   1,000,000+  Free     0       Everyone   \n",
       "8    13791   33M   1,000,000+  Free     0       Everyone   \n",
       "9      121  3.1M      10,000+  Free     0       Everyone   \n",
       "10   13880   28M   1,000,000+  Free     0       Everyone   \n",
       "11    8788   12M   1,000,000+  Free     0       Everyone   \n",
       "12   44829   20M  10,000,000+  Free     0           Teen   \n",
       "13    4326   21M     100,000+  Free     0       Everyone   \n",
       "14    1518   37M     100,000+  Free     0       Everyone   \n",
       "\n",
       "                       Genres        Last Updated         Current Ver  \\\n",
       "0                Art & Design     January 7, 2018               1.0.0   \n",
       "1   Art & Design;Pretend Play    January 15, 2018               2.0.0   \n",
       "2                Art & Design      August 1, 2018               1.2.4   \n",
       "3                Art & Design        June 8, 2018  Varies with device   \n",
       "4     Art & Design;Creativity       June 20, 2018                 1.1   \n",
       "5                Art & Design      March 26, 2017                   1   \n",
       "6                Art & Design      April 26, 2018                 1.1   \n",
       "7                Art & Design       June 14, 2018            6.1.61.1   \n",
       "8                Art & Design  September 20, 2017               2.9.2   \n",
       "9     Art & Design;Creativity        July 3, 2018                 2.8   \n",
       "10               Art & Design    October 27, 2017               1.0.4   \n",
       "11               Art & Design       July 31, 2018              1.0.15   \n",
       "12               Art & Design       April 2, 2018                 3.8   \n",
       "13               Art & Design       June 26, 2018               1.0.4   \n",
       "14               Art & Design      August 3, 2018               1.2.3   \n",
       "\n",
       "     Android Ver  Unnamed: 13                  App.1  \\\n",
       "0   4.0.3 and up          NaN  10 Best Foods for You   \n",
       "1   4.0.3 and up          NaN  10 Best Foods for You   \n",
       "2   4.0.3 and up          NaN  10 Best Foods for You   \n",
       "3     4.2 and up          NaN  10 Best Foods for You   \n",
       "4     4.4 and up          NaN  10 Best Foods for You   \n",
       "5     2.3 and up          NaN  10 Best Foods for You   \n",
       "6   4.0.3 and up          NaN  10 Best Foods for You   \n",
       "7     4.2 and up          NaN  10 Best Foods for You   \n",
       "8     3.0 and up          NaN  10 Best Foods for You   \n",
       "9   4.0.3 and up          NaN  10 Best Foods for You   \n",
       "10    4.1 and up          NaN  10 Best Foods for You   \n",
       "11    4.0 and up          NaN  10 Best Foods for You   \n",
       "12    4.1 and up          NaN  10 Best Foods for You   \n",
       "13    4.4 and up          NaN  10 Best Foods for You   \n",
       "14    2.3 and up          NaN  10 Best Foods for You   \n",
       "\n",
       "                                    Translated_Review Sentiment  \\\n",
       "0   I like eat delicious food. That's I'm cooking ...  Positive   \n",
       "1     This help eating healthy exercise regular basis  Positive   \n",
       "2                                                 NaN       NaN   \n",
       "3          Works great especially going grocery store  Positive   \n",
       "4                                        Best idea us  Positive   \n",
       "5                                            Best way  Positive   \n",
       "6                                             Amazing  Positive   \n",
       "7                                                 NaN       NaN   \n",
       "8                                Looking forward app,   Neutral   \n",
       "9               It helpful site ! It help foods get !   Neutral   \n",
       "10                                          good you.  Positive   \n",
       "11  Useful information The amount spelling errors ...  Positive   \n",
       "12  Thank you! Great app!! Add arthritis, eyes, im...  Positive   \n",
       "13  Greatest ever Completely awesome maintain heal...  Positive   \n",
       "14  Good health...... Good health first priority.....  Positive   \n",
       "\n",
       "    Sentiment_Polarity  Sentiment_Subjectivity  \n",
       "0             1.000000                0.533333  \n",
       "1             0.250000                0.288462  \n",
       "2                  NaN                     NaN  \n",
       "3             0.400000                0.875000  \n",
       "4             1.000000                0.300000  \n",
       "5             1.000000                0.300000  \n",
       "6             0.600000                0.900000  \n",
       "7                  NaN                     NaN  \n",
       "8             0.000000                0.000000  \n",
       "9             0.000000                0.000000  \n",
       "10            0.700000                0.600000  \n",
       "11            0.200000                0.100000  \n",
       "12            0.750000                0.875000  \n",
       "13            0.992188                0.866667  \n",
       "14            0.550000                0.511111  "
      ]
     },
     "execution_count": 41,
     "metadata": {},
     "output_type": "execute_result"
    }
   ],
   "source": [
    "df.head(15)"
   ]
  },
  {
   "cell_type": "code",
   "execution_count": 42,
   "metadata": {},
   "outputs": [
    {
     "data": {
      "text/html": [
       "<div>\n",
       "<style scoped>\n",
       "    .dataframe tbody tr th:only-of-type {\n",
       "        vertical-align: middle;\n",
       "    }\n",
       "\n",
       "    .dataframe tbody tr th {\n",
       "        vertical-align: top;\n",
       "    }\n",
       "\n",
       "    .dataframe thead th {\n",
       "        text-align: right;\n",
       "    }\n",
       "</style>\n",
       "<table border=\"1\" class=\"dataframe\">\n",
       "  <thead>\n",
       "    <tr style=\"text-align: right;\">\n",
       "      <th></th>\n",
       "      <th>Rating</th>\n",
       "      <th>Unnamed: 13</th>\n",
       "      <th>Sentiment_Polarity</th>\n",
       "      <th>Sentiment_Subjectivity</th>\n",
       "    </tr>\n",
       "  </thead>\n",
       "  <tbody>\n",
       "    <tr>\n",
       "      <th>count</th>\n",
       "      <td>9367.000000</td>\n",
       "      <td>0.0</td>\n",
       "      <td>37432.000000</td>\n",
       "      <td>37432.000000</td>\n",
       "    </tr>\n",
       "    <tr>\n",
       "      <th>mean</th>\n",
       "      <td>4.193338</td>\n",
       "      <td>NaN</td>\n",
       "      <td>0.182146</td>\n",
       "      <td>0.492704</td>\n",
       "    </tr>\n",
       "    <tr>\n",
       "      <th>std</th>\n",
       "      <td>0.537431</td>\n",
       "      <td>NaN</td>\n",
       "      <td>0.351301</td>\n",
       "      <td>0.259949</td>\n",
       "    </tr>\n",
       "    <tr>\n",
       "      <th>min</th>\n",
       "      <td>1.000000</td>\n",
       "      <td>NaN</td>\n",
       "      <td>-1.000000</td>\n",
       "      <td>0.000000</td>\n",
       "    </tr>\n",
       "    <tr>\n",
       "      <th>25%</th>\n",
       "      <td>4.000000</td>\n",
       "      <td>NaN</td>\n",
       "      <td>0.000000</td>\n",
       "      <td>0.357143</td>\n",
       "    </tr>\n",
       "    <tr>\n",
       "      <th>50%</th>\n",
       "      <td>4.300000</td>\n",
       "      <td>NaN</td>\n",
       "      <td>0.150000</td>\n",
       "      <td>0.514286</td>\n",
       "    </tr>\n",
       "    <tr>\n",
       "      <th>75%</th>\n",
       "      <td>4.500000</td>\n",
       "      <td>NaN</td>\n",
       "      <td>0.400000</td>\n",
       "      <td>0.650000</td>\n",
       "    </tr>\n",
       "    <tr>\n",
       "      <th>max</th>\n",
       "      <td>19.000000</td>\n",
       "      <td>NaN</td>\n",
       "      <td>1.000000</td>\n",
       "      <td>1.000000</td>\n",
       "    </tr>\n",
       "  </tbody>\n",
       "</table>\n",
       "</div>"
      ],
      "text/plain": [
       "            Rating  Unnamed: 13  Sentiment_Polarity  Sentiment_Subjectivity\n",
       "count  9367.000000          0.0        37432.000000            37432.000000\n",
       "mean      4.193338          NaN            0.182146                0.492704\n",
       "std       0.537431          NaN            0.351301                0.259949\n",
       "min       1.000000          NaN           -1.000000                0.000000\n",
       "25%       4.000000          NaN            0.000000                0.357143\n",
       "50%       4.300000          NaN            0.150000                0.514286\n",
       "75%       4.500000          NaN            0.400000                0.650000\n",
       "max      19.000000          NaN            1.000000                1.000000"
      ]
     },
     "execution_count": 42,
     "metadata": {},
     "output_type": "execute_result"
    }
   ],
   "source": [
    "df.describe()"
   ]
  },
  {
   "cell_type": "code",
   "execution_count": 4,
   "metadata": {},
   "outputs": [
    {
     "data": {
      "text/plain": [
       "ROBLOX                                                9\n",
       "CBS Sports App - Scores, News, Stats & Watch Live     8\n",
       "8 Ball Pool                                           7\n",
       "Duolingo: Learn Languages Free                        7\n",
       "ESPN                                                  7\n",
       "Candy Crush Saga                                      7\n",
       "Subway Surfers                                        6\n",
       "Helix Jump                                            6\n",
       "Temple Run 2                                          6\n",
       "Sniper 3D Gun Shooter: Free Shooting Games - FPS      6\n",
       "slither.io                                            6\n",
       "Bowmasters                                            6\n",
       "Bubble Shooter                                        6\n",
       "Nick                                                  6\n",
       "Zombie Catchers                                       6\n",
       "Bleacher Report: sports news, scores, & highlights    6\n",
       "TripAdvisor Hotels Flights Restaurants Attractions    5\n",
       "Yahoo Fantasy Sports - #1 Rated Fantasy App           5\n",
       "eBay: Buy & Sell this Summer - Discover Deals Now!    5\n",
       "Viber Messenger                                       5\n",
       "MeetMe: Chat & Meet New People                        5\n",
       "Calorie Counter - MyFitnessPal                        5\n",
       "MLB At Bat                                            5\n",
       "Skyscanner                                            5\n",
       "Flow Free                                             5\n",
       "BeautyPlus - Easy Photo Editor & Selfie Camera        5\n",
       "Farm Heroes Saga                                      5\n",
       "Zombie Tsunami                                        5\n",
       "Angry Birds Classic                                   5\n",
       "Netflix                                               5\n",
       "                                                     ..\n",
       "Ek Do Teen Song Videos - Baaghi 2 Video Songs         1\n",
       "HD Wallpapers Volvo FH Trucks                         1\n",
       "Alerte au gogol                                       1\n",
       "BlackCam Pro - B&W Camera                             1\n",
       "The Guardian                                          1\n",
       "Kovax Europe B.V.                                     1\n",
       "w UN map                                              1\n",
       "TN Patta, Chitta, EC                                  1\n",
       "Revista BS                                            1\n",
       "ER Blood Draw Doctor & Surgeon                        1\n",
       "FL Bankers                                            1\n",
       "Dr Dre - Beatmaker                                    1\n",
       "Naruto & Boruto FR                                    1\n",
       "Dr. Pixel: Pill mania Classic                         1\n",
       "SpeedApp EV                                           1\n",
       "SUMMER SONIC app                                      1\n",
       "NBA LIVE Mobile Basketball                            1\n",
       "Downloader plus for FB                                1\n",
       "L.O.L. Surprise Ball Pop                              1\n",
       "CG Smart                                              1\n",
       "Thomas & Friends: Go Go Thomas                        1\n",
       "Seeking Alpha                                         1\n",
       "7 Minute Workout                                      1\n",
       "Antivirus & Mobile Security                           1\n",
       "Call Blocker - Blacklist, SMS Blocker                 1\n",
       "AU Results - AU COE Corner                            1\n",
       "Masha and the Bear                                    1\n",
       "KLM - Royal Dutch Airlines                            1\n",
       "AI with Python Tutorial                               1\n",
       "Nasihat - Chalo ae Pyaara                             1\n",
       "Name: App, Length: 9660, dtype: int64"
      ]
     },
     "execution_count": 4,
     "metadata": {},
     "output_type": "execute_result"
    }
   ],
   "source": [
    "df['App'].value_counts()"
   ]
  },
  {
   "cell_type": "code",
   "execution_count": 5,
   "metadata": {},
   "outputs": [
    {
     "data": {
      "text/plain": [
       "FAMILY                 1972\n",
       "GAME                   1144\n",
       "TOOLS                   843\n",
       "MEDICAL                 463\n",
       "BUSINESS                460\n",
       "PRODUCTIVITY            424\n",
       "PERSONALIZATION         392\n",
       "COMMUNICATION           387\n",
       "SPORTS                  384\n",
       "LIFESTYLE               382\n",
       "FINANCE                 366\n",
       "HEALTH_AND_FITNESS      341\n",
       "PHOTOGRAPHY             335\n",
       "SOCIAL                  295\n",
       "NEWS_AND_MAGAZINES      283\n",
       "SHOPPING                260\n",
       "TRAVEL_AND_LOCAL        258\n",
       "DATING                  234\n",
       "BOOKS_AND_REFERENCE     231\n",
       "VIDEO_PLAYERS           175\n",
       "EDUCATION               156\n",
       "ENTERTAINMENT           149\n",
       "MAPS_AND_NAVIGATION     137\n",
       "FOOD_AND_DRINK          127\n",
       "HOUSE_AND_HOME           88\n",
       "AUTO_AND_VEHICLES        85\n",
       "LIBRARIES_AND_DEMO       85\n",
       "WEATHER                  82\n",
       "ART_AND_DESIGN           65\n",
       "EVENTS                   64\n",
       "COMICS                   60\n",
       "PARENTING                60\n",
       "BEAUTY                   53\n",
       "1.9                       1\n",
       "Name: Category, dtype: int64"
      ]
     },
     "execution_count": 5,
     "metadata": {},
     "output_type": "execute_result"
    }
   ],
   "source": [
    "df['Category'].value_counts()"
   ]
  },
  {
   "cell_type": "code",
   "execution_count": 6,
   "metadata": {},
   "outputs": [
    {
     "data": {
      "text/plain": [
       "Everyone           8714\n",
       "Teen               1208\n",
       "Mature 17+          499\n",
       "Everyone 10+        414\n",
       "Adults only 18+       3\n",
       "Unrated               2\n",
       "Name: Content Rating, dtype: int64"
      ]
     },
     "execution_count": 6,
     "metadata": {},
     "output_type": "execute_result"
    }
   ],
   "source": [
    "df['Content Rating'].value_counts()"
   ]
  },
  {
   "cell_type": "code",
   "execution_count": 7,
   "metadata": {},
   "outputs": [
    {
     "data": {
      "text/plain": [
       "Tools                                  842\n",
       "Entertainment                          623\n",
       "Education                              549\n",
       "Medical                                463\n",
       "Business                               460\n",
       "Productivity                           424\n",
       "Sports                                 398\n",
       "Personalization                        392\n",
       "Communication                          387\n",
       "Lifestyle                              381\n",
       "Finance                                366\n",
       "Action                                 365\n",
       "Health & Fitness                       341\n",
       "Photography                            335\n",
       "Social                                 295\n",
       "News & Magazines                       283\n",
       "Shopping                               260\n",
       "Travel & Local                         257\n",
       "Dating                                 234\n",
       "Books & Reference                      231\n",
       "Arcade                                 220\n",
       "Simulation                             200\n",
       "Casual                                 193\n",
       "Video Players & Editors                173\n",
       "Puzzle                                 140\n",
       "Maps & Navigation                      137\n",
       "Food & Drink                           127\n",
       "Role Playing                           109\n",
       "Strategy                               107\n",
       "Racing                                  98\n",
       "                                      ... \n",
       "Adventure;Education                      2\n",
       "Card;Action & Adventure                  2\n",
       "Art & Design;Action & Adventure          2\n",
       "Strategy;Action & Adventure              2\n",
       "Video Players & Editors;Creativity       2\n",
       "Puzzle;Creativity                        2\n",
       "Parenting;Brain Games                    1\n",
       "Trivia;Education                         1\n",
       "Adventure;Brain Games                    1\n",
       "Communication;Creativity                 1\n",
       "Music & Audio;Music & Video              1\n",
       "Racing;Pretend Play                      1\n",
       "Arcade;Pretend Play                      1\n",
       "Strategy;Education                       1\n",
       "Lifestyle;Pretend Play                   1\n",
       "Role Playing;Education                   1\n",
       "Strategy;Creativity                      1\n",
       "Health & Fitness;Action & Adventure      1\n",
       "Books & Reference;Creativity             1\n",
       "Travel & Local;Action & Adventure        1\n",
       "Puzzle;Education                         1\n",
       "Tools;Education                          1\n",
       "Comics;Creativity                        1\n",
       "Board;Pretend Play                       1\n",
       "Entertainment;Education                  1\n",
       "Card;Brain Games                         1\n",
       "February 11, 2018                        1\n",
       "Lifestyle;Education                      1\n",
       "Role Playing;Brain Games                 1\n",
       "Health & Fitness;Education               1\n",
       "Name: Genres, Length: 120, dtype: int64"
      ]
     },
     "execution_count": 7,
     "metadata": {},
     "output_type": "execute_result"
    }
   ],
   "source": [
    "df['Genres'].value_counts()"
   ]
  },
  {
   "cell_type": "code",
   "execution_count": 8,
   "metadata": {},
   "outputs": [
    {
     "data": {
      "text/plain": [
       "August 3, 2018        326\n",
       "August 2, 2018        304\n",
       "July 31, 2018         294\n",
       "August 1, 2018        285\n",
       "July 30, 2018         211\n",
       "July 25, 2018         164\n",
       "July 26, 2018         161\n",
       "August 6, 2018        158\n",
       "July 27, 2018         151\n",
       "July 24, 2018         148\n",
       "July 23, 2018         127\n",
       "July 19, 2018         126\n",
       "July 16, 2018         126\n",
       "July 18, 2018         123\n",
       "July 11, 2018         106\n",
       "August 4, 2018        105\n",
       "July 12, 2018         103\n",
       "July 5, 2018           93\n",
       "July 17, 2018          92\n",
       "July 3, 2018           90\n",
       "July 9, 2018           89\n",
       "July 20, 2018          88\n",
       "July 13, 2018          81\n",
       "May 24, 2018           69\n",
       "July 6, 2018           63\n",
       "June 27, 2018          63\n",
       "June 26, 2018          60\n",
       "May 25, 2018           56\n",
       "June 25, 2018          56\n",
       "June 13, 2018          54\n",
       "                     ... \n",
       "October 7, 2014         1\n",
       "February 15, 2013       1\n",
       "February 6, 2012        1\n",
       "October 28, 2014        1\n",
       "June 22, 2017           1\n",
       "February 13, 2017       1\n",
       "November 4, 2017        1\n",
       "November 22, 2012       1\n",
       "April 14, 2015          1\n",
       "May 24, 2014            1\n",
       "September 19, 2013      1\n",
       "March 5, 2016           1\n",
       "December 31, 2014       1\n",
       "May 25, 2013            1\n",
       "November 24, 2016       1\n",
       "August 3, 2016          1\n",
       "June 23, 2011           1\n",
       "August 31, 2013         1\n",
       "February 18, 2013       1\n",
       "March 28, 2016          1\n",
       "December 26, 2013       1\n",
       "January 21, 2014        1\n",
       "November 2, 2015        1\n",
       "October 25, 2014        1\n",
       "August 20, 2016         1\n",
       "December 5, 2013        1\n",
       "February 1, 2016        1\n",
       "June 26, 2013           1\n",
       "February 11, 2016       1\n",
       "August 19, 2013         1\n",
       "Name: Last Updated, Length: 1378, dtype: int64"
      ]
     },
     "execution_count": 8,
     "metadata": {},
     "output_type": "execute_result"
    }
   ],
   "source": [
    "df['Last Updated'].value_counts()"
   ]
  },
  {
   "cell_type": "code",
   "execution_count": 9,
   "metadata": {},
   "outputs": [
    {
     "data": {
      "text/plain": [
       "Varies with device       1459\n",
       "1                         842\n",
       "1.1                       276\n",
       "1.2                       185\n",
       "2                         165\n",
       "1.3                       145\n",
       "1.0.0                     136\n",
       "1.0.1                     119\n",
       "1.4                        93\n",
       "1.5                        84\n",
       "1.0.2                      80\n",
       "2.1                        67\n",
       "1.6                        66\n",
       "3                          66\n",
       "1.0.3                      62\n",
       "1.0.4                      58\n",
       "1.7                        54\n",
       "2.0.0                      51\n",
       "1.0.5                      50\n",
       "1.1.0                      49\n",
       "1.1.1                      48\n",
       "1.0.6                      47\n",
       "1.2.1                      46\n",
       "4                          44\n",
       "1.2.0                      43\n",
       "1.8                        42\n",
       "1.9                        37\n",
       "2.3.2                      35\n",
       "2.4                        35\n",
       "2.2                        35\n",
       "                         ... \n",
       "69.1                        1\n",
       "V1.0.9                      1\n",
       "5.29.77 Domain 427          1\n",
       "13.4                        1\n",
       "9.12.5                      1\n",
       "3.01                        1\n",
       "1.0.144431                  1\n",
       "3.1.0.2                     1\n",
       "3.4.1.1                     1\n",
       "9.8.376                     1\n",
       "1.0.72                      1\n",
       "3.46.5                      1\n",
       "2.8.307                     1\n",
       "Cannonau 3.11.11            1\n",
       "4.435                       1\n",
       "2.8.9.1004                  1\n",
       "2.0.17.9                    1\n",
       "3.1.0.226                   1\n",
       "v1.0.0-195-gb96d9f2         1\n",
       "1.2.6 (94)                  1\n",
       "1.4.large                   1\n",
       "v2018.Apr.12.16             1\n",
       "6.1.5                       1\n",
       "1.0 Super Ear Hearing       1\n",
       "5.9.1                       1\n",
       "5.7.3                       1\n",
       "23.01.1265.0712             1\n",
       "1.180702                    1\n",
       "6.5.1725                    1\n",
       "4.6.71                      1\n",
       "Name: Current Ver, Length: 2784, dtype: int64"
      ]
     },
     "execution_count": 9,
     "metadata": {},
     "output_type": "execute_result"
    }
   ],
   "source": [
    "df['Current Ver'].value_counts()"
   ]
  },
  {
   "cell_type": "code",
   "execution_count": 10,
   "metadata": {},
   "outputs": [
    {
     "data": {
      "text/plain": [
       "4.1 and up            2451\n",
       "4.0.3 and up          1501\n",
       "4.0 and up            1375\n",
       "Varies with device    1362\n",
       "4.4 and up             980\n",
       "2.3 and up             652\n",
       "5.0 and up             601\n",
       "4.2 and up             394\n",
       "2.3.3 and up           281\n",
       "2.2 and up             244\n",
       "4.3 and up             243\n",
       "3.0 and up             241\n",
       "2.1 and up             134\n",
       "1.6 and up             116\n",
       "6.0 and up              60\n",
       "7.0 and up              42\n",
       "3.2 and up              36\n",
       "2.0 and up              32\n",
       "5.1 and up              24\n",
       "1.5 and up              20\n",
       "4.4W and up             12\n",
       "3.1 and up              10\n",
       "2.0.1 and up             7\n",
       "8.0 and up               6\n",
       "7.1 and up               3\n",
       "5.0 - 8.0                2\n",
       "4.0.3 - 7.1.1            2\n",
       "1.0 and up               2\n",
       "7.0 - 7.1.1              1\n",
       "5.0 - 6.0                1\n",
       "5.0 - 7.1.1              1\n",
       "2.2 - 7.1.1              1\n",
       "4.1 - 7.1.1              1\n",
       "Name: Android Ver, dtype: int64"
      ]
     },
     "execution_count": 10,
     "metadata": {},
     "output_type": "execute_result"
    }
   ],
   "source": [
    "df['Android Ver'].value_counts()"
   ]
  },
  {
   "cell_type": "code",
   "execution_count": 11,
   "metadata": {},
   "outputs": [
    {
     "data": {
      "text/plain": [
       "Varies with device    1695\n",
       "11M                    198\n",
       "12M                    196\n",
       "14M                    194\n",
       "13M                    191\n",
       "15M                    184\n",
       "17M                    160\n",
       "19M                    154\n",
       "16M                    149\n",
       "26M                    149\n",
       "25M                    143\n",
       "20M                    139\n",
       "21M                    138\n",
       "24M                    136\n",
       "10M                    136\n",
       "18M                    133\n",
       "23M                    117\n",
       "22M                    114\n",
       "29M                    103\n",
       "27M                     97\n",
       "28M                     95\n",
       "30M                     84\n",
       "33M                     79\n",
       "3.3M                    77\n",
       "37M                     76\n",
       "35M                     72\n",
       "31M                     70\n",
       "2.9M                    69\n",
       "2.3M                    68\n",
       "2.5M                    68\n",
       "                      ... \n",
       "696k                     1\n",
       "892k                     1\n",
       "55k                      1\n",
       "164k                     1\n",
       "730k                     1\n",
       "545k                     1\n",
       "860k                     1\n",
       "353k                     1\n",
       "157k                     1\n",
       "208k                     1\n",
       "314k                     1\n",
       "608k                     1\n",
       "253k                     1\n",
       "239k                     1\n",
       "812k                     1\n",
       "429k                     1\n",
       "518k                     1\n",
       "782k                     1\n",
       "976k                     1\n",
       "916k                     1\n",
       "986k                     1\n",
       "975k                     1\n",
       "81k                      1\n",
       "879k                     1\n",
       "160k                     1\n",
       "840k                     1\n",
       "404k                     1\n",
       "779k                     1\n",
       "642k                     1\n",
       "378k                     1\n",
       "Name: Size, Length: 462, dtype: int64"
      ]
     },
     "execution_count": 11,
     "metadata": {},
     "output_type": "execute_result"
    }
   ],
   "source": [
    "df['Size'].value_counts()"
   ]
  },
  {
   "cell_type": "code",
   "execution_count": 12,
   "metadata": {},
   "outputs": [
    {
     "data": {
      "text/plain": [
       "0          596\n",
       "1          272\n",
       "2          214\n",
       "3          175\n",
       "4          137\n",
       "5          108\n",
       "6           97\n",
       "7           90\n",
       "8           74\n",
       "9           65\n",
       "10          64\n",
       "12          60\n",
       "11          52\n",
       "13          49\n",
       "17          48\n",
       "19          41\n",
       "14          41\n",
       "16          35\n",
       "20          35\n",
       "21          35\n",
       "15          31\n",
       "24          30\n",
       "30          30\n",
       "25          30\n",
       "38          29\n",
       "18          27\n",
       "22          26\n",
       "27          25\n",
       "23          25\n",
       "28          24\n",
       "          ... \n",
       "5754         1\n",
       "18612        1\n",
       "3614         1\n",
       "24980        1\n",
       "4972230      1\n",
       "361780       1\n",
       "342912       1\n",
       "8433         1\n",
       "32225        1\n",
       "66033        1\n",
       "3090727      1\n",
       "41917        1\n",
       "1633565      1\n",
       "978          1\n",
       "4637439      1\n",
       "2036         1\n",
       "41759        1\n",
       "357          1\n",
       "10088        1\n",
       "102594       1\n",
       "7594559      1\n",
       "61990        1\n",
       "3909032      1\n",
       "2338         1\n",
       "11023        1\n",
       "686          1\n",
       "5231553      1\n",
       "13469        1\n",
       "277939       1\n",
       "2398         1\n",
       "Name: Reviews, Length: 6002, dtype: int64"
      ]
     },
     "execution_count": 12,
     "metadata": {},
     "output_type": "execute_result"
    }
   ],
   "source": [
    "df['Reviews'].value_counts()"
   ]
  },
  {
   "cell_type": "code",
   "execution_count": 13,
   "metadata": {},
   "outputs": [
    {
     "data": {
      "text/plain": [
       "1,000,000+        1579\n",
       "10,000,000+       1252\n",
       "100,000+          1169\n",
       "10,000+           1054\n",
       "1,000+             907\n",
       "5,000,000+         752\n",
       "100+               719\n",
       "500,000+           539\n",
       "50,000+            479\n",
       "5,000+             477\n",
       "100,000,000+       409\n",
       "10+                386\n",
       "500+               330\n",
       "50,000,000+        289\n",
       "50+                205\n",
       "5+                  82\n",
       "500,000,000+        72\n",
       "1+                  67\n",
       "1,000,000,000+      58\n",
       "0+                  14\n",
       "Free                 1\n",
       "0                    1\n",
       "Name: Installs, dtype: int64"
      ]
     },
     "execution_count": 13,
     "metadata": {},
     "output_type": "execute_result"
    }
   ],
   "source": [
    "df['Installs'].value_counts()"
   ]
  },
  {
   "cell_type": "code",
   "execution_count": 14,
   "metadata": {},
   "outputs": [
    {
     "data": {
      "text/plain": [
       "0           10040\n",
       "$0.99         148\n",
       "$2.99         129\n",
       "$1.99          73\n",
       "$4.99          72\n",
       "$3.99          63\n",
       "$1.49          46\n",
       "$5.99          30\n",
       "$2.49          26\n",
       "$9.99          21\n",
       "$6.99          13\n",
       "$399.99        12\n",
       "$14.99         11\n",
       "$4.49           9\n",
       "$24.99          7\n",
       "$7.99           7\n",
       "$29.99          7\n",
       "$3.49           7\n",
       "$5.49           6\n",
       "$19.99          6\n",
       "$11.99          5\n",
       "$8.99           5\n",
       "$12.99          5\n",
       "$6.49           5\n",
       "$16.99          3\n",
       "$1.00           3\n",
       "$2.00           3\n",
       "$10.00          3\n",
       "$9.00           2\n",
       "$7.49           2\n",
       "            ...  \n",
       "$37.99          1\n",
       "$2.50           1\n",
       "$1.75           1\n",
       "$4.85           1\n",
       "$379.99         1\n",
       "$3.28           1\n",
       "$14.00          1\n",
       "$25.99          1\n",
       "$3.08           1\n",
       "$1.50           1\n",
       "$4.77           1\n",
       "$74.99          1\n",
       "$1.04           1\n",
       "$3.04           1\n",
       "$1.59           1\n",
       "$1.97           1\n",
       "$1.76           1\n",
       "$30.99          1\n",
       "$4.84           1\n",
       "$15.99          1\n",
       "$1.29           1\n",
       "$154.99         1\n",
       "$3.88           1\n",
       "$400.00         1\n",
       "$2.90           1\n",
       "$1.96           1\n",
       "Everyone        1\n",
       "$389.99         1\n",
       "$4.80           1\n",
       "$109.99         1\n",
       "Name: Price, Length: 93, dtype: int64"
      ]
     },
     "execution_count": 14,
     "metadata": {},
     "output_type": "execute_result"
    }
   ],
   "source": [
    "df['Price'].value_counts()"
   ]
  },
  {
   "cell_type": "code",
   "execution_count": 15,
   "metadata": {},
   "outputs": [
    {
     "data": {
      "text/plain": [
       "Good                                                                                                                                                                                                                                                                                                                                                                                                              247\n",
       "Nice                                                                                                                                                                                                                                                                                                                                                                                                              173\n",
       "Great                                                                                                                                                                                                                                                                                                                                                                                                             131\n",
       "Love                                                                                                                                                                                                                                                                                                                                                                                                              116\n",
       "Awesome                                                                                                                                                                                                                                                                                                                                                                                                            71\n",
       "Very good                                                                                                                                                                                                                                                                                                                                                                                                          69\n",
       "I love                                                                                                                                                                                                                                                                                                                                                                                                             66\n",
       "I like                                                                                                                                                                                                                                                                                                                                                                                                             56\n",
       "good                                                                                                                                                                                                                                                                                                                                                                                                               46\n",
       "Cool                                                                                                                                                                                                                                                                                                                                                                                                               42\n",
       "Excellent                                                                                                                                                                                                                                                                                                                                                                                                          37\n",
       "Ok                                                                                                                                                                                                                                                                                                                                                                                                                 37\n",
       "Very nice                                                                                                                                                                                                                                                                                                                                                                                                          35\n",
       "It's good                                                                                                                                                                                                                                                                                                                                                                                                          32\n",
       "Thanks                                                                                                                                                                                                                                                                                                                                                                                                             31\n",
       "Super                                                                                                                                                                                                                                                                                                                                                                                                              25\n",
       "nice                                                                                                                                                                                                                                                                                                                                                                                                               20\n",
       "Best                                                                                                                                                                                                                                                                                                                                                                                                               19\n",
       "Very useful                                                                                                                                                                                                                                                                                                                                                                                                        19\n",
       "Thank                                                                                                                                                                                                                                                                                                                                                                                                              19\n",
       "Like                                                                                                                                                                                                                                                                                                                                                                                                               17\n",
       "Its good                                                                                                                                                                                                                                                                                                                                                                                                           17\n",
       "Perfect                                                                                                                                                                                                                                                                                                                                                                                                            17\n",
       "Easy                                                                                                                                                                                                                                                                                                                                                                                                               16\n",
       "It good                                                                                                                                                                                                                                                                                                                                                                                                            16\n",
       "Fun                                                                                                                                                                                                                                                                                                                                                                                                                15\n",
       "Rubbish                                                                                                                                                                                                                                                                                                                                                                                                            14\n",
       "It's great                                                                                                                                                                                                                                                                                                                                                                                                         14\n",
       "I hate                                                                                                                                                                                                                                                                                                                                                                                                             14\n",
       "The best                                                                                                                                                                                                                                                                                                                                                                                                           14\n",
       "                                                                                                                                                                                                                                                                                                                                                                                                                 ... \n",
       "Fun weeks without getting nat 5 quit                                                                                                                                                                                                                                                                                                                                                                                1\n",
       "I love lin expected wish games news would IN would maybe go philippines cant maybe could make movie graduate college(im sorry true dont love still love though)and would stickers chose would filters ( literally defining buzzfeed snapchat insta sorry)                                                                                                                                                           1\n",
       "It shamefull, using kanald app, watched serials there, now, want watch movie channel app, passes app. This bad, dont recommend someone, install app! Bi wants to do the series, channel has made all of them widespread, this is the right steady calismy, skill, 7 guns little muddet, ayipdir ayip                                                                                                                1\n",
       "Status bar Hide function ??? I would like to use the status bar hidden in full screen.                                                                                                                                                                                                                                                                                                                              1\n",
       "Use project                                                                                                                                                                                                                                                                                                                                                                                                         1\n",
       "SUPER ADDICTIVE, I Can't Go A day without playing it, Its BEST Farming Game EVER History Farming games, wonder FS16 Is like <3                                                                                                                                                                                                                                                                                      1\n",
       "Walmart informed longer honoring even though Walmart pricing it.                                                                                                                                                                                                                                                                                                                                                    1\n",
       "Some glitches screen resizing occasionally....good time pass otherwise.                                                                                                                                                                                                                                                                                                                                             1\n",
       "I like groovebook provides. It's cool service, I hate charged every month even I get book. This would gave credit, sadly lose money get credit. I uploaded last book September finally April I uploaded book, book I cancelling deleting app. The picture quality better changed little year ago.                                                                                                                   1\n",
       "Time saver                                                                                                                                                                                                                                                                                                                                                                                                          1\n",
       "Brilliant site idea,app glitches though                                                                                                                                                                                                                                                                                                                                                                             1\n",
       "Not working anymore                                                                                                                                                                                                                                                                                                                                                                                                 1\n",
       "Good idea - needs improvement. Paid 10 dollars worked great short spell. Now icons missing show pages adding them. Not really worth 10 dollars.                                                                                                                                                                                                                                                                     1\n",
       "It's overall enjoyable experience, dependent in-app purchases. I find difficult make 9th island.                                                                                                                                                                                                                                                                                                                    1\n",
       "Bugs I ticked Go Notifier accessibility, still same. I couldnt set notification facebook, whatsapp, twitter on. And keeps saying \"turn accessibility apps\". Please fix it. I've using Go launcher year, Go Notifier making experience Go launcher bad.                                                                                                                                                              1\n",
       "Album Covers Once I updated, album covers songs changed. It let change back original covers.                                                                                                                                                                                                                                                                                                                        1\n",
       "It good except want navigate chapters, every chapter visit becomes like bookmark cannot deleted (when u back button, ask page u want go) really annoying. I afraid go back forth close without savings reading place bug.                                                                                                                                                                                           1\n",
       "UPDATED: I say process waiting bank get connected well platform, I'll first say support thing exemplary makes want long term customer. It's exciting revs see money taken hopes \"secretly\" creating savings. Really great stuff. PREVIOUS: I truly love premise behind product. But capitol account syncing. Customer great updating me. Hope gets fixed super happy future customer. I'll update rating fixed      1\n",
       "Let check n see accuracy                                                                                                                                                                                                                                                                                                                                                                                            1\n",
       "This could better cash-in BDO Online allowed...                                                                                                                                                                                                                                                                                                                                                                     1\n",
       "HTC M8 Finally I waiting HTC player like samsung others default,yet thing missing,i would like give us ability manage switching add subtitles video,I noticed bugs like people say,my phone read mkv..mp4,other formats don't,but ok! avi..missing perfect,as sound,everything working normally yet,please HTC us,pride users :-),give us good fine player,you it.5 stars :-)                                       1\n",
       "Wellbi think need little bit aggressive yjr gsme self                                                                                                                                                                                                                                                                                                                                                               1\n",
       "Great app. I've tried coloring favorite. I love pictures free new added often. My suggestions improve game would add mystery images know coloring actually color make animation replay goes slower watch both.                                                                                                                                                                                                      1\n",
       "Nice idea full ads, worth it! Shame really. Is paid version? Deleted.                                                                                                                                                                                                                                                                                                                                               1\n",
       "Not sure terrorist not. Gave information emptying account I kept HOLD... Panda                                                                                                                                                                                                                                                                                                                                      1\n",
       "Very poor maintenance performance. It can't initiate English UK, past week, shows posts several days ago, order, failing update refresh.                                                                                                                                                                                                                                                                            1\n",
       "Great app! But I gripe it...I verse day widget I'm online I says something along lines reduced functionality nothing displayed                                                                                                                                                                                                                                                                                      1\n",
       "Nice!! It attractive function.. Members friendly... Best choice meet new friends                                                                                                                                                                                                                                                                                                                                    1\n",
       "Completely useless. You sign every time user pass. Finger print work unless do. My password strong random I change frequently should, thus I memorized.                                                                                                                                                                                                                                                             1\n",
       "This help much. It saved money. I think would able get meds I get thank god.                                                                                                                                                                                                                                                                                                                                        1\n",
       "Name: Translated_Review, Length: 27994, dtype: int64"
      ]
     },
     "execution_count": 15,
     "metadata": {},
     "output_type": "execute_result"
    }
   ],
   "source": [
    "df['Translated_Review'].value_counts()"
   ]
  },
  {
   "cell_type": "code",
   "execution_count": 16,
   "metadata": {},
   "outputs": [
    {
     "data": {
      "text/plain": [
       "Positive    23998\n",
       "Negative     8271\n",
       "Neutral      5163\n",
       "Name: Sentiment, dtype: int64"
      ]
     },
     "execution_count": 16,
     "metadata": {},
     "output_type": "execute_result"
    }
   ],
   "source": [
    "df['Sentiment'].value_counts()"
   ]
  },
  {
   "cell_type": "code",
   "execution_count": 17,
   "metadata": {},
   "outputs": [
    {
     "data": {
      "text/plain": [
       "<matplotlib.axes._subplots.AxesSubplot at 0x28155c99160>"
      ]
     },
     "execution_count": 17,
     "metadata": {},
     "output_type": "execute_result"
    },
    {
     "data": {
      "image/png": "[encoded data removed]",
      "text/plain": [
       "<Figure size 432x288 with 1 Axes>"
      ]
     },
     "metadata": {},
     "output_type": "display_data"
    }
   ],
   "source": [
    "df['Rating'].hist(bins=50)"
   ]
  },
  {
   "cell_type": "code",
   "execution_count": 18,
   "metadata": {},
   "outputs": [
    {
     "data": {
      "text/plain": [
       "<matplotlib.axes._subplots.AxesSubplot at 0x281560277b8>"
      ]
     },
     "execution_count": 18,
     "metadata": {},
     "output_type": "execute_result"
    },
    {
     "data": {
      "image/png": "[encoded data removed]",
      "text/plain": [
       "<Figure size 432x288 with 1 Axes>"
      ]
     },
     "metadata": {},
     "output_type": "display_data"
    }
   ],
   "source": [
    "df['Sentiment_Polarity'].hist(bins=50)"
   ]
  },
  {
   "cell_type": "code",
   "execution_count": 19,
   "metadata": {},
   "outputs": [
    {
     "data": {
      "text/plain": [
       "<matplotlib.axes._subplots.AxesSubplot at 0x2815611a6a0>"
      ]
     },
     "execution_count": 19,
     "metadata": {},
     "output_type": "execute_result"
    },
    {
     "data": {
      "image/png": "[encoded data removed]",
      "text/plain": [
       "<Figure size 432x288 with 1 Axes>"
      ]
     },
     "metadata": {},
     "output_type": "display_data"
    }
   ],
   "source": [
    "df['Sentiment_Subjectivity'].hist(bins=50)"
   ]
  },
  {
   "cell_type": "code",
   "execution_count": 20,
   "metadata": {},
   "outputs": [
    {
     "data": {
      "text/plain": [
       "<matplotlib.axes._subplots.AxesSubplot at 0x281562036a0>"
      ]
     },
     "execution_count": 20,
     "metadata": {},
     "output_type": "execute_result"
    },
    {
     "data": {
      "image/png": "[encoded data removed]",
      "text/plain": [
       "<Figure size 432x288 with 1 Axes>"
      ]
     },
     "metadata": {},
     "output_type": "display_data"
    }
   ],
   "source": [
    "df.boxplot(column='Rating')"
   ]
  },
  {
   "cell_type": "code",
   "execution_count": 21,
   "metadata": {},
   "outputs": [
    {
     "data": {
      "text/plain": [
       "<matplotlib.axes._subplots.AxesSubplot at 0x28156268e10>"
      ]
     },
     "execution_count": 21,
     "metadata": {},
     "output_type": "execute_result"
    },
    {
     "data": {
      "image/png": "[encoded data removed]",
      "text/plain": [
       "<Figure size 432x288 with 1 Axes>"
      ]
     },
     "metadata": {},
     "output_type": "display_data"
    }
   ],
   "source": [
    "df.boxplot(column='Sentiment_Polarity')"
   ]
  },
  {
   "cell_type": "code",
   "execution_count": 22,
   "metadata": {},
   "outputs": [
    {
     "data": {
      "text/plain": [
       "<matplotlib.axes._subplots.AxesSubplot at 0x281562fefd0>"
      ]
     },
     "execution_count": 22,
     "metadata": {},
     "output_type": "execute_result"
    },
    {
     "data": {
      "image/png": "[encoded data removed]",
      "text/plain": [
       "<Figure size 432x288 with 1 Axes>"
      ]
     },
     "metadata": {},
     "output_type": "display_data"
    }
   ],
   "source": [
    "df.boxplot(column='Sentiment_Subjectivity')"
   ]
  },
  {
   "cell_type": "code",
   "execution_count": 23,
   "metadata": {},
   "outputs": [
    {
     "data": {
      "text/plain": [
       "<matplotlib.axes._subplots.AxesSubplot at 0x281563586d8>"
      ]
     },
     "execution_count": 23,
     "metadata": {},
     "output_type": "execute_result"
    },
    {
     "data": {
      "image/png": "[encoded data removed]",
      "text/plain": [
       "<Figure size 432x288 with 1 Axes>"
      ]
     },
     "metadata": {},
     "output_type": "display_data"
    }
   ],
   "source": [
    "df.boxplot(column='Sentiment_Polarity', by = 'Sentiment')"
   ]
  },
  {
   "cell_type": "code",
   "execution_count": 24,
   "metadata": {},
   "outputs": [
    {
     "name": "stdout",
     "output_type": "stream",
     "text": [
      "Frequency Table for Sentiment:\n",
      "Neutral      5163\n",
      "Negative     8271\n",
      "Positive    23998\n",
      "Name: Sentiment, dtype: int64\n",
      "\n",
      "Probility of getting a positive or negative review for each Sentiment class:\n",
      "                    Sentiment\n",
      "Sentiment_Polarity           \n",
      "-1.000000                 2.0\n",
      "-0.988281                 2.0\n",
      "-0.976562                 2.0\n",
      "-0.955000                 2.0\n",
      "-0.937500                 2.0\n",
      "-0.933333                 2.0\n",
      "-0.910000                 2.0\n",
      "-0.900000                 2.0\n",
      "-0.892857                 2.0\n",
      "-0.890000                 2.0\n",
      "-0.888281                 2.0\n",
      "-0.875000                 2.0\n",
      "-0.866667                 2.0\n",
      "-0.855000                 2.0\n",
      "-0.853571                 2.0\n",
      "-0.850000                 2.0\n",
      "-0.833333                 2.0\n",
      "-0.825000                 2.0\n",
      "-0.816667                 2.0\n",
      "-0.812500                 2.0\n",
      "-0.805176                 2.0\n",
      "-0.800000                 2.0\n",
      "-0.787500                 2.0\n",
      "-0.781250                 2.0\n",
      "-0.770000                 2.0\n",
      "-0.766667                 2.0\n",
      "-0.750000                 2.0\n",
      "-0.738281                 2.0\n",
      "-0.734375                 2.0\n",
      "-0.733333                 2.0\n",
      "...                       ...\n",
      " 0.828125                 0.0\n",
      " 0.833333                 0.0\n",
      " 0.837500                 0.0\n",
      " 0.838281                 0.0\n",
      " 0.838542                 0.0\n",
      " 0.840000                 0.0\n",
      " 0.840104                 0.0\n",
      " 0.840625                 0.0\n",
      " 0.850000                 0.0\n",
      " 0.855000                 0.0\n",
      " 0.858333                 0.0\n",
      " 0.866667                 0.0\n",
      " 0.868750                 0.0\n",
      " 0.875000                 0.0\n",
      " 0.878906                 0.0\n",
      " 0.890000                 0.0\n",
      " 0.890625                 0.0\n",
      " 0.900000                 0.0\n",
      " 0.910000                 0.0\n",
      " 0.933333                 0.0\n",
      " 0.937500                 0.0\n",
      " 0.950000                 0.0\n",
      " 0.953674                 0.0\n",
      " 0.955000                 0.0\n",
      " 0.968750                 0.0\n",
      " 0.975000                 0.0\n",
      " 0.976562                 0.0\n",
      " 0.988281                 0.0\n",
      " 0.992188                 0.0\n",
      " 1.000000                 0.0\n",
      "\n",
      "[4829 rows x 1 columns]\n"
     ]
    }
   ],
   "source": [
    "temp1 = df['Sentiment'].value_counts(ascending=True)\n",
    "print ('Frequency Table for Sentiment:') \n",
    "print (temp1)\n",
    "\n",
    "temp2 = df.pivot_table(values='Sentiment',index=['Sentiment_Polarity'],aggfunc=lambda x: x.map({'Negative':2,'Neutral':1,'Positive':0}).mean())\n",
    "print ('\\nProbility of getting a positive or negative review for each Sentiment class:')\n",
    "print (temp2)"
   ]
  },
  {
   "cell_type": "code",
   "execution_count": 25,
   "metadata": {},
   "outputs": [
    {
     "data": {
      "text/plain": [
       "<matplotlib.axes._subplots.AxesSubplot at 0x2815604b5c0>"
      ]
     },
     "execution_count": 25,
     "metadata": {},
     "output_type": "execute_result"
    },
    {
     "data": {
      "image/png": "[encoded data removed]",
      "text/plain": [
       "<Figure size 576x288 with 1 Axes>"
      ]
     },
     "metadata": {},
     "output_type": "display_data"
    }
   ],
   "source": [
    "import matplotlib.pyplot as plt\n",
    "fig = plt.figure(figsize=(8,4))\n",
    "ax1 = fig.add_subplot(121)\n",
    "ax1.set_xlabel('Sentiment')\n",
    "ax1.set_ylabel('Reviews')\n",
    "ax1.set_title(\"Applicants by Sentiment\")\n",
    "temp1.plot(kind='bar')"
   ]
  },
  {
   "cell_type": "code",
   "execution_count": null,
   "metadata": {},
   "outputs": [],
   "source": [
    "temp3 = pd.crosstab(df['Sentiment'], df['Sentiment_Polarity'])\n",
    "temp3.plot(kind='bar', stacked=True, color=['red','blue'], grid=False)"
   ]
  },
  {
   "cell_type": "code",
   "execution_count": 2,
   "metadata": {},
   "outputs": [],
   "source": [
    "df['Rating'].fillna(df['Rating'].mean(), inplace=True)"
   ]
  },
  {
   "cell_type": "code",
   "execution_count": 3,
   "metadata": {},
   "outputs": [],
   "source": [
    " df['Sentiment_Polarity'].fillna(df['Sentiment_Polarity'].mean(), inplace=True)"
   ]
  },
  {
   "cell_type": "code",
   "execution_count": 4,
   "metadata": {},
   "outputs": [],
   "source": [
    " df['Sentiment_Subjectivity'].fillna(df['Sentiment_Subjectivity'].mean(), inplace=True)"
   ]
  },
  {
   "cell_type": "code",
   "execution_count": 5,
   "metadata": {},
   "outputs": [],
   "source": [
    "df['Type'].fillna('Free',inplace=True)"
   ]
  },
  {
   "cell_type": "code",
   "execution_count": 6,
   "metadata": {},
   "outputs": [],
   "source": [
    "df['Content Rating'].fillna('Everyone',inplace=True)"
   ]
  },
  {
   "cell_type": "code",
   "execution_count": 7,
   "metadata": {},
   "outputs": [],
   "source": [
    "df['Sentiment'].fillna('Positive',inplace=True)"
   ]
  },
  {
   "cell_type": "code",
   "execution_count": 8,
   "metadata": {},
   "outputs": [],
   "source": [
    "df['Translated_Review'].fillna('Good!',inplace=True)"
   ]
  },
  {
   "cell_type": "code",
   "execution_count": 12,
   "metadata": {},
   "outputs": [
    {
     "data": {
      "text/plain": [
       "<matplotlib.axes._subplots.AxesSubplot at 0x24962cd5fd0>"
      ]
     },
     "execution_count": 12,
     "metadata": {},
     "output_type": "execute_result"
    },
    {
     "data": {
      "image/png": "[encoded data removed]",
      "text/plain": [
       "<Figure size 432x288 with 1 Axes>"
      ]
     },
     "metadata": {},
     "output_type": "display_data"
    }
   ],
   "source": [
    " df['Rating_log'] = np.log(df['Rating'])\n",
    "df['Rating_log'].hist(bins=20)"
   ]
  },
  {
   "cell_type": "code",
   "execution_count": 13,
   "metadata": {},
   "outputs": [
    {
     "data": {
      "text/plain": [
       "<matplotlib.axes._subplots.AxesSubplot at 0x24962dfacf8>"
      ]
     },
     "execution_count": 13,
     "metadata": {},
     "output_type": "execute_result"
    },
    {
     "data": {
      "image/png": "[encoded data removed]",
      "text/plain": [
       "<Figure size 432x288 with 1 Axes>"
      ]
     },
     "metadata": {},
     "output_type": "display_data"
    }
   ],
   "source": [
    "df['TotalRating'] = df['Rating'] \n",
    "df['TotalRating_log'] = np.log(df['TotalRating'])\n",
    "df['Rating_log'].hist(bins=20) "
   ]
  },
  {
   "cell_type": "code",
   "execution_count": 47,
   "metadata": {},
   "outputs": [
    {
     "ename": "ValueError",
     "evalue": "Unable to parse string \"Everyone\" at position 0",
     "output_type": "error",
     "traceback": [
      "\u001b[1;31m---------------------------------------------------------------------------\u001b[0m",
      "\u001b[1;31mValueError\u001b[0m                                Traceback (most recent call last)",
      "\u001b[1;32mpandas/_libs/src\\inference.pyx\u001b[0m in \u001b[0;36mpandas._libs.lib.maybe_convert_numeric\u001b[1;34m()\u001b[0m\n",
      "\u001b[1;31mValueError\u001b[0m: Unable to parse string \"Everyone\"",
      "\nDuring handling of the above exception, another exception occurred:\n",
      "\u001b[1;31mValueError\u001b[0m                                Traceback (most recent call last)",
      "\u001b[1;32m<ipython-input-47-659f334c4f55>\u001b[0m in \u001b[0;36m<module>\u001b[1;34m()\u001b[0m\n\u001b[1;32m----> 1\u001b[1;33m \u001b[0mdf\u001b[0m\u001b[1;33m[\u001b[0m\u001b[1;34m\"Content Rating\"\u001b[0m\u001b[1;33m]\u001b[0m \u001b[1;33m=\u001b[0m \u001b[0mpd\u001b[0m\u001b[1;33m.\u001b[0m\u001b[0mto_numeric\u001b[0m\u001b[1;33m(\u001b[0m\u001b[0mdf\u001b[0m\u001b[1;33m[\u001b[0m\u001b[1;34m\"Content Rating\"\u001b[0m\u001b[1;33m]\u001b[0m\u001b[1;33m)\u001b[0m\u001b[1;33m\u001b[0m\u001b[0m\n\u001b[0m",
      "\u001b[1;32m~\\Anaconda3\\lib\\site-packages\\pandas\\core\\tools\\numeric.py\u001b[0m in \u001b[0;36mto_numeric\u001b[1;34m(arg, errors, downcast)\u001b[0m\n\u001b[0;32m    131\u001b[0m             \u001b[0mcoerce_numeric\u001b[0m \u001b[1;33m=\u001b[0m \u001b[1;32mFalse\u001b[0m \u001b[1;32mif\u001b[0m \u001b[0merrors\u001b[0m \u001b[1;32min\u001b[0m \u001b[1;33m(\u001b[0m\u001b[1;34m'ignore'\u001b[0m\u001b[1;33m,\u001b[0m \u001b[1;34m'raise'\u001b[0m\u001b[1;33m)\u001b[0m \u001b[1;32melse\u001b[0m \u001b[1;32mTrue\u001b[0m\u001b[1;33m\u001b[0m\u001b[0m\n\u001b[0;32m    132\u001b[0m             values = lib.maybe_convert_numeric(values, set(),\n\u001b[1;32m--> 133\u001b[1;33m                                                coerce_numeric=coerce_numeric)\n\u001b[0m\u001b[0;32m    134\u001b[0m \u001b[1;33m\u001b[0m\u001b[0m\n\u001b[0;32m    135\u001b[0m     \u001b[1;32mexcept\u001b[0m \u001b[0mException\u001b[0m\u001b[1;33m:\u001b[0m\u001b[1;33m\u001b[0m\u001b[0m\n",
      "\u001b[1;32mpandas/_libs/src\\inference.pyx\u001b[0m in \u001b[0;36mpandas._libs.lib.maybe_convert_numeric\u001b[1;34m()\u001b[0m\n",
      "\u001b[1;31mValueError\u001b[0m: Unable to parse string \"Everyone\" at position 0"
     ]
    }
   ],
   "source": [
    "df[\"Content Rating\"] = pd.to_numeric(df[\"Content Rating\"])"
   ]
  },
  {
   "cell_type": "code",
   "execution_count": 15,
   "metadata": {},
   "outputs": [
    {
     "name": "stdout",
     "output_type": "stream",
     "text": [
      "[0.16377536 0.02508103 0.31355552 0.49758809]\n"
     ]
    }
   ],
   "source": []
  },
  {
   "cell_type": "code",
   "execution_count": 16,
   "metadata": {},
   "outputs": [],
   "source": []
  },
  {
   "cell_type": "code",
   "execution_count": 24,
   "metadata": {},
   "outputs": [],
   "source": []
  },
  {
   "cell_type": "code",
   "execution_count": 23,
   "metadata": {},
   "outputs": [],
   "source": []
  },
  {
   "cell_type": "code",
   "execution_count": 25,
   "metadata": {},
   "outputs": [
    {
     "ename": "ValueError",
     "evalue": "could not convert string to float: 'Positive'",
     "output_type": "error",
     "traceback": [
      "\u001b[1;31m---------------------------------------------------------------------------\u001b[0m",
      "\u001b[1;31mValueError\u001b[0m                                Traceback (most recent call last)",
      "\u001b[1;32m<ipython-input-25-46adba698cba>\u001b[0m in \u001b[0;36m<module>\u001b[1;34m()\u001b[0m\n\u001b[0;32m      2\u001b[0m \u001b[0mmodel\u001b[0m \u001b[1;33m=\u001b[0m \u001b[0mLogisticRegression\u001b[0m\u001b[1;33m(\u001b[0m\u001b[1;33m)\u001b[0m\u001b[1;33m\u001b[0m\u001b[0m\n\u001b[0;32m      3\u001b[0m \u001b[0mrfe\u001b[0m \u001b[1;33m=\u001b[0m \u001b[0mRFE\u001b[0m\u001b[1;33m(\u001b[0m\u001b[0mmodel\u001b[0m\u001b[1;33m,\u001b[0m \u001b[1;36m3\u001b[0m\u001b[1;33m)\u001b[0m\u001b[1;33m\u001b[0m\u001b[0m\n\u001b[1;32m----> 4\u001b[1;33m \u001b[0mfit\u001b[0m \u001b[1;33m=\u001b[0m \u001b[0mrfe\u001b[0m\u001b[1;33m.\u001b[0m\u001b[0mfit\u001b[0m\u001b[1;33m(\u001b[0m\u001b[0mX\u001b[0m\u001b[1;33m,\u001b[0m \u001b[0mY\u001b[0m\u001b[1;33m)\u001b[0m\u001b[1;33m\u001b[0m\u001b[0m\n\u001b[0m\u001b[0;32m      5\u001b[0m \u001b[0mprint\u001b[0m\u001b[1;33m(\u001b[0m\u001b[1;34m\"Num Features: %s\"\u001b[0m \u001b[1;33m%\u001b[0m \u001b[1;33m(\u001b[0m\u001b[0mfit\u001b[0m\u001b[1;33m.\u001b[0m\u001b[0mn_features_\u001b[0m\u001b[1;33m)\u001b[0m\u001b[1;33m)\u001b[0m\u001b[1;33m\u001b[0m\u001b[0m\n\u001b[0;32m      6\u001b[0m \u001b[0mprint\u001b[0m\u001b[1;33m(\u001b[0m\u001b[1;34m\"Selected Features: %s\"\u001b[0m \u001b[1;33m%\u001b[0m \u001b[1;33m(\u001b[0m\u001b[0mfit\u001b[0m\u001b[1;33m.\u001b[0m\u001b[0msupport_\u001b[0m\u001b[1;33m)\u001b[0m\u001b[1;33m)\u001b[0m\u001b[1;33m\u001b[0m\u001b[0m\n",
      "\u001b[1;32m~\\Anaconda3\\lib\\site-packages\\sklearn\\feature_selection\\rfe.py\u001b[0m in \u001b[0;36mfit\u001b[1;34m(self, X, y)\u001b[0m\n\u001b[0;32m    132\u001b[0m             \u001b[0mThe\u001b[0m \u001b[0mtarget\u001b[0m \u001b[0mvalues\u001b[0m\u001b[1;33m.\u001b[0m\u001b[1;33m\u001b[0m\u001b[0m\n\u001b[0;32m    133\u001b[0m         \"\"\"\n\u001b[1;32m--> 134\u001b[1;33m         \u001b[1;32mreturn\u001b[0m \u001b[0mself\u001b[0m\u001b[1;33m.\u001b[0m\u001b[0m_fit\u001b[0m\u001b[1;33m(\u001b[0m\u001b[0mX\u001b[0m\u001b[1;33m,\u001b[0m \u001b[0my\u001b[0m\u001b[1;33m)\u001b[0m\u001b[1;33m\u001b[0m\u001b[0m\n\u001b[0m\u001b[0;32m    135\u001b[0m \u001b[1;33m\u001b[0m\u001b[0m\n\u001b[0;32m    136\u001b[0m     \u001b[1;32mdef\u001b[0m \u001b[0m_fit\u001b[0m\u001b[1;33m(\u001b[0m\u001b[0mself\u001b[0m\u001b[1;33m,\u001b[0m \u001b[0mX\u001b[0m\u001b[1;33m,\u001b[0m \u001b[0my\u001b[0m\u001b[1;33m,\u001b[0m \u001b[0mstep_score\u001b[0m\u001b[1;33m=\u001b[0m\u001b[1;32mNone\u001b[0m\u001b[1;33m)\u001b[0m\u001b[1;33m:\u001b[0m\u001b[1;33m\u001b[0m\u001b[0m\n",
      "\u001b[1;32m~\\Anaconda3\\lib\\site-packages\\sklearn\\feature_selection\\rfe.py\u001b[0m in \u001b[0;36m_fit\u001b[1;34m(self, X, y, step_score)\u001b[0m\n\u001b[0;32m    140\u001b[0m         \u001b[1;31m# self.scores_ will not be calculated when calling _fit through fit\u001b[0m\u001b[1;33m\u001b[0m\u001b[1;33m\u001b[0m\u001b[0m\n\u001b[0;32m    141\u001b[0m \u001b[1;33m\u001b[0m\u001b[0m\n\u001b[1;32m--> 142\u001b[1;33m         \u001b[0mX\u001b[0m\u001b[1;33m,\u001b[0m \u001b[0my\u001b[0m \u001b[1;33m=\u001b[0m \u001b[0mcheck_X_y\u001b[0m\u001b[1;33m(\u001b[0m\u001b[0mX\u001b[0m\u001b[1;33m,\u001b[0m \u001b[0my\u001b[0m\u001b[1;33m,\u001b[0m \u001b[1;34m\"csc\"\u001b[0m\u001b[1;33m)\u001b[0m\u001b[1;33m\u001b[0m\u001b[0m\n\u001b[0m\u001b[0;32m    143\u001b[0m         \u001b[1;31m# Initialization\u001b[0m\u001b[1;33m\u001b[0m\u001b[1;33m\u001b[0m\u001b[0m\n\u001b[0;32m    144\u001b[0m         \u001b[0mn_features\u001b[0m \u001b[1;33m=\u001b[0m \u001b[0mX\u001b[0m\u001b[1;33m.\u001b[0m\u001b[0mshape\u001b[0m\u001b[1;33m[\u001b[0m\u001b[1;36m1\u001b[0m\u001b[1;33m]\u001b[0m\u001b[1;33m\u001b[0m\u001b[0m\n",
      "\u001b[1;32m~\\Anaconda3\\lib\\site-packages\\sklearn\\utils\\validation.py\u001b[0m in \u001b[0;36mcheck_X_y\u001b[1;34m(X, y, accept_sparse, dtype, order, copy, force_all_finite, ensure_2d, allow_nd, multi_output, ensure_min_samples, ensure_min_features, y_numeric, warn_on_dtype, estimator)\u001b[0m\n\u001b[0;32m    571\u001b[0m     X = check_array(X, accept_sparse, dtype, order, copy, force_all_finite,\n\u001b[0;32m    572\u001b[0m                     \u001b[0mensure_2d\u001b[0m\u001b[1;33m,\u001b[0m \u001b[0mallow_nd\u001b[0m\u001b[1;33m,\u001b[0m \u001b[0mensure_min_samples\u001b[0m\u001b[1;33m,\u001b[0m\u001b[1;33m\u001b[0m\u001b[0m\n\u001b[1;32m--> 573\u001b[1;33m                     ensure_min_features, warn_on_dtype, estimator)\n\u001b[0m\u001b[0;32m    574\u001b[0m     \u001b[1;32mif\u001b[0m \u001b[0mmulti_output\u001b[0m\u001b[1;33m:\u001b[0m\u001b[1;33m\u001b[0m\u001b[0m\n\u001b[0;32m    575\u001b[0m         y = check_array(y, 'csr', force_all_finite=True, ensure_2d=False,\n",
      "\u001b[1;32m~\\Anaconda3\\lib\\site-packages\\sklearn\\utils\\validation.py\u001b[0m in \u001b[0;36mcheck_array\u001b[1;34m(array, accept_sparse, dtype, order, copy, force_all_finite, ensure_2d, allow_nd, ensure_min_samples, ensure_min_features, warn_on_dtype, estimator)\u001b[0m\n\u001b[0;32m    431\u001b[0m                                       force_all_finite)\n\u001b[0;32m    432\u001b[0m     \u001b[1;32melse\u001b[0m\u001b[1;33m:\u001b[0m\u001b[1;33m\u001b[0m\u001b[0m\n\u001b[1;32m--> 433\u001b[1;33m         \u001b[0marray\u001b[0m \u001b[1;33m=\u001b[0m \u001b[0mnp\u001b[0m\u001b[1;33m.\u001b[0m\u001b[0marray\u001b[0m\u001b[1;33m(\u001b[0m\u001b[0marray\u001b[0m\u001b[1;33m,\u001b[0m \u001b[0mdtype\u001b[0m\u001b[1;33m=\u001b[0m\u001b[0mdtype\u001b[0m\u001b[1;33m,\u001b[0m \u001b[0morder\u001b[0m\u001b[1;33m=\u001b[0m\u001b[0morder\u001b[0m\u001b[1;33m,\u001b[0m \u001b[0mcopy\u001b[0m\u001b[1;33m=\u001b[0m\u001b[0mcopy\u001b[0m\u001b[1;33m)\u001b[0m\u001b[1;33m\u001b[0m\u001b[0m\n\u001b[0m\u001b[0;32m    434\u001b[0m \u001b[1;33m\u001b[0m\u001b[0m\n\u001b[0;32m    435\u001b[0m         \u001b[1;32mif\u001b[0m \u001b[0mensure_2d\u001b[0m\u001b[1;33m:\u001b[0m\u001b[1;33m\u001b[0m\u001b[0m\n",
      "\u001b[1;31mValueError\u001b[0m: could not convert string to float: 'Positive'"
     ]
    }
   ],
   "source": []
  },
  {
   "cell_type": "code",
   "execution_count": null,
   "metadata": {},
   "outputs": [],
   "source": []
  }
 ],
 "metadata": {
  "kernelspec": {
   "display_name": "Python 3",
   "language": "python",
   "name": "python3"
  },
  "language_info": {
   "codemirror_mode": {
    "name": "ipython",
    "version": 3
   },
   "file_extension": ".py",
   "mimetype": "text/x-python",
   "name": "python",
   "nbconvert_exporter": "python",
   "pygments_lexer": "ipython3",
   "version": "3.6.5"
  }
 },
 "nbformat": 4,
 "nbformat_minor": 2
}
